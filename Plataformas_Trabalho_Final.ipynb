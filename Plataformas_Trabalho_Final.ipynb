{
  "nbformat": 4,
  "nbformat_minor": 0,
  "metadata": {
    "colab": {
      "name": "Plataformas - Trabalho Final.ipynb",
      "provenance": [],
      "collapsed_sections": []
    },
    "kernelspec": {
      "name": "python3",
      "display_name": "Python 3"
    }
  },
  "cells": [
    {
      "cell_type": "markdown",
      "metadata": {
        "id": "ITZ8X-hf6DZ2",
        "colab_type": "text"
      },
      "source": [
        "# Configurações"
      ]
    },
    {
      "cell_type": "markdown",
      "metadata": {
        "id": "AuzRkIfO6M_d",
        "colab_type": "text"
      },
      "source": [
        "Imports de Pacotes"
      ]
    },
    {
      "cell_type": "code",
      "metadata": {
        "id": "GMPxIg3j480h",
        "colab_type": "code",
        "colab": {
          "base_uri": "https://localhost:8080/",
          "height": 204
        },
        "outputId": "7aa96aa7-e1f9-4bfe-8502-5b9f5b96e9cb"
      },
      "source": [
        "#pip install --upgrade \"ibm-watson>=4.0.1\""
      ],
      "execution_count": 13,
      "outputs": [
        {
          "output_type": "stream",
          "text": [
            "Requirement already up-to-date: ibm-watson>=4.0.1 in /usr/local/lib/python3.6/dist-packages (4.5.0)\n",
            "Requirement already satisfied, skipping upgrade: requests<3.0,>=2.0 in /usr/local/lib/python3.6/dist-packages (from ibm-watson>=4.0.1) (2.23.0)\n",
            "Requirement already satisfied, skipping upgrade: ibm-cloud-sdk-core==1.5.1 in /usr/local/lib/python3.6/dist-packages (from ibm-watson>=4.0.1) (1.5.1)\n",
            "Requirement already satisfied, skipping upgrade: python-dateutil>=2.5.3 in /usr/local/lib/python3.6/dist-packages (from ibm-watson>=4.0.1) (2.8.1)\n",
            "Requirement already satisfied, skipping upgrade: websocket-client==0.48.0 in /usr/local/lib/python3.6/dist-packages (from ibm-watson>=4.0.1) (0.48.0)\n",
            "Requirement already satisfied, skipping upgrade: urllib3!=1.25.0,!=1.25.1,<1.26,>=1.21.1 in /usr/local/lib/python3.6/dist-packages (from requests<3.0,>=2.0->ibm-watson>=4.0.1) (1.24.3)\n",
            "Requirement already satisfied, skipping upgrade: idna<3,>=2.5 in /usr/local/lib/python3.6/dist-packages (from requests<3.0,>=2.0->ibm-watson>=4.0.1) (2.10)\n",
            "Requirement already satisfied, skipping upgrade: certifi>=2017.4.17 in /usr/local/lib/python3.6/dist-packages (from requests<3.0,>=2.0->ibm-watson>=4.0.1) (2020.6.20)\n",
            "Requirement already satisfied, skipping upgrade: chardet<4,>=3.0.2 in /usr/local/lib/python3.6/dist-packages (from requests<3.0,>=2.0->ibm-watson>=4.0.1) (3.0.4)\n",
            "Requirement already satisfied, skipping upgrade: PyJWT>=1.7.1 in /usr/local/lib/python3.6/dist-packages (from ibm-cloud-sdk-core==1.5.1->ibm-watson>=4.0.1) (1.7.1)\n",
            "Requirement already satisfied, skipping upgrade: six>=1.5 in /usr/local/lib/python3.6/dist-packages (from python-dateutil>=2.5.3->ibm-watson>=4.0.1) (1.15.0)\n"
          ],
          "name": "stdout"
        }
      ]
    },
    {
      "cell_type": "code",
      "metadata": {
        "id": "bTWTiJnX4nSC",
        "colab_type": "code",
        "colab": {}
      },
      "source": [
        "from IPython.display import display, Javascript\n",
        "from IPython.display import Image\n",
        "from google.colab.output import eval_js\n",
        "from base64 import b64decode\n",
        "import json\n",
        "from ibm_watson import VisualRecognitionV3\n",
        "from ibm_cloud_sdk_core.authenticators import IAMAuthenticator"
      ],
      "execution_count": 16,
      "outputs": []
    },
    {
      "cell_type": "code",
      "metadata": {
        "id": "Xy_xXWFt5BrF",
        "colab_type": "code",
        "colab": {}
      },
      "source": [
        "#https://cloud.ibm.com/\n",
        "#Serviço: VisualRecognitionV3\n",
        "#Get authenticator in Service credentials\n",
        "authenticator = IAMAuthenticator('7JLj77cJlAoFi0185S8vy9cp8pcsiCmrEZqVFSbLtDKR')"
      ],
      "execution_count": 22,
      "outputs": []
    },
    {
      "cell_type": "code",
      "metadata": {
        "id": "WWlXi_zcB6jo",
        "colab_type": "code",
        "colab": {}
      },
      "source": [
        "#dont change version\n",
        "visual_recognition = VisualRecognitionV3(\n",
        "    version='2018-03-19',\n",
        "    authenticator=authenticator\n",
        ")"
      ],
      "execution_count": 27,
      "outputs": []
    },
    {
      "cell_type": "code",
      "metadata": {
        "id": "VyACYLP3B-t2",
        "colab_type": "code",
        "colab": {}
      },
      "source": [
        "visual_recognition.set_service_url(\"https://api.us-south.visual-recognition.watson.cloud.ibm.com/instances/e606bf88-2faf-4bd4-9425-90c9f02b16b8\")"
      ],
      "execution_count": 28,
      "outputs": []
    },
    {
      "cell_type": "code",
      "metadata": {
        "id": "k0iG-50uCQiW",
        "colab_type": "code",
        "colab": {}
      },
      "source": [
        "#Classificar Imagem em um Link\n",
        "#url = 'https://ibm.biz/BdzLPG'\n",
        "#classes_result = visual_recognition.classify(url=url).get_result()\n",
        "#print(json.dumps(classes_result, indent=2))"
      ],
      "execution_count": null,
      "outputs": []
    },
    {
      "cell_type": "code",
      "metadata": {
        "id": "fIChBbqi70N2",
        "colab_type": "code",
        "colab": {}
      },
      "source": [
        "#Classificar imagem em um arquivo no local\n",
        "#with open('terno.jpg', 'rb') as images_file:\n",
        "#  classes_result = visual_recognition.classify(images_file=images_file).get_result()\n",
        "#  print(json.dumps(classes_result, indent=2))"
      ],
      "execution_count": 43,
      "outputs": []
    },
    {
      "cell_type": "markdown",
      "metadata": {
        "id": "SsLYaoPJ6O65",
        "colab_type": "text"
      },
      "source": [
        "Funções úteis"
      ]
    },
    {
      "cell_type": "code",
      "metadata": {
        "id": "fgjAkHGT4_PW",
        "colab_type": "code",
        "colab": {}
      },
      "source": [
        "def take_photo(filename='photo.jpg', quality=0.8):\n",
        "  js = Javascript('''\n",
        "    async function takePhoto(quality) {\n",
        "      const div = document.createElement('div');\n",
        "      const capture = document.createElement('button');\n",
        "      capture.textContent = 'Capture';\n",
        "      div.appendChild(capture);\n",
        "\n",
        "      const video = document.createElement('video');\n",
        "      video.style.display = 'block';\n",
        "      const stream = await navigator.mediaDevices.getUserMedia({video: true});\n",
        "\n",
        "      document.body.appendChild(div);\n",
        "      div.appendChild(video);\n",
        "      video.srcObject = stream;\n",
        "      await video.play();\n",
        "\n",
        "      // Resize the output to fit the video element.\n",
        "      google.colab.output.setIframeHeight(document.documentElement.scrollHeight, true);\n",
        "\n",
        "      // Wait for Capture to be clicked.\n",
        "      await new Promise((resolve) => capture.onclick = resolve);\n",
        "\n",
        "      const canvas = document.createElement('canvas');\n",
        "      canvas.width = video.videoWidth;\n",
        "      canvas.height = video.videoHeight;\n",
        "      canvas.getContext('2d').drawImage(video, 0, 0);\n",
        "      stream.getVideoTracks()[0].stop();\n",
        "      div.remove();\n",
        "      return canvas.toDataURL('image/jpeg', quality);\n",
        "    }\n",
        "    ''')\n",
        "  display(js)\n",
        "  data = eval_js('takePhoto({})'.format(quality))\n",
        "  binary = b64decode(data.split(',')[1])\n",
        "  with open(filename, 'wb') as f:\n",
        "    f.write(binary)\n",
        "  return filename"
      ],
      "execution_count": null,
      "outputs": []
    },
    {
      "cell_type": "markdown",
      "metadata": {
        "id": "ylp3x05m6Sp9",
        "colab_type": "text"
      },
      "source": [
        "# Informações do cliente"
      ]
    },
    {
      "cell_type": "code",
      "metadata": {
        "id": "DP6I38-R6Zpp",
        "colab_type": "code",
        "colab": {}
      },
      "source": [
        "#@title Preencha aqui com as informações do cliente requisitante\n",
        "\n",
        "#@markdown Informe todos os campos a seguir:\n",
        "nome = \"Informe aqui o nome\" #@param {type:\"string\"}\n",
        "\n",
        "renda = 1000.00 #@param {type:\"number\"}\n",
        "idade = 18 #@param {type:\"slider\", min:18, max:100, step:1}\n",
        "etnia = \"Selecionar etnia\"  #@param [\"Selecionar etnia\", \"Etnia01\", \"Etnia02\"]\n",
        "genero = \"Feminino\" #@param [\"Masculino\", \"Feminino\"]\n",
        "casa_propria = \"Selecionar\" #@param [\"Selecionar\", \"Sim\", \"Não\"]\n",
        "outras_rendas = \"Selecionar\" #@param [\"Selecionar\", \"Sim\", \"Não\"]\n",
        "estado_civil = \"Selecionar\" #@param [\"Selecionar\", \"Estado01\", \"Estado02\"]\n",
        "escolaridade = 1 #@param {type:\"slider\", min:0, max:3, step:1}\n",
        "\n",
        "#@markdown ---\n"
      ],
      "execution_count": null,
      "outputs": []
    },
    {
      "cell_type": "code",
      "metadata": {
        "id": "dlLpClyi4_PB",
        "colab_type": "code",
        "colab": {
          "base_uri": "https://localhost:8080/",
          "height": 514
        },
        "outputId": "2622ac75-60a1-4acb-9ead-bbc59f4fd365"
      },
      "source": [
        "#@title Tire uma foto do cliente requerente (ou tire uma foto sua mesmo)\n",
        "\n",
        "try:\n",
        "  filename = take_photo()\n",
        "  print('Saved to {}'.format(filename))\n",
        "  \n",
        "  # Show the image which was just taken.\n",
        "  display(Image(filename))\n",
        "except Exception as err:\n",
        "  # Errors will be thrown if the user does not have a webcam or if they do not\n",
        "  # grant the page permission to access it.\n",
        "  print(str(err))"
      ],
      "execution_count": 48,
      "outputs": [
        {
          "output_type": "display_data",
          "data": {
            "application/javascript": [
              "\n",
              "    async function takePhoto(quality) {\n",
              "      const div = document.createElement('div');\n",
              "      const capture = document.createElement('button');\n",
              "      capture.textContent = 'Capture';\n",
              "      div.appendChild(capture);\n",
              "\n",
              "      const video = document.createElement('video');\n",
              "      video.style.display = 'block';\n",
              "      const stream = await navigator.mediaDevices.getUserMedia({video: true});\n",
              "\n",
              "      document.body.appendChild(div);\n",
              "      div.appendChild(video);\n",
              "      video.srcObject = stream;\n",
              "      await video.play();\n",
              "\n",
              "      // Resize the output to fit the video element.\n",
              "      google.colab.output.setIframeHeight(document.documentElement.scrollHeight, true);\n",
              "\n",
              "      // Wait for Capture to be clicked.\n",
              "      await new Promise((resolve) => capture.onclick = resolve);\n",
              "\n",
              "      const canvas = document.createElement('canvas');\n",
              "      canvas.width = video.videoWidth;\n",
              "      canvas.height = video.videoHeight;\n",
              "      canvas.getContext('2d').drawImage(video, 0, 0);\n",
              "      stream.getVideoTracks()[0].stop();\n",
              "      div.remove();\n",
              "      return canvas.toDataURL('image/jpeg', quality);\n",
              "    }\n",
              "    "
            ],
            "text/plain": [
              "<IPython.core.display.Javascript object>"
            ]
          },
          "metadata": {
            "tags": []
          }
        },
        {
          "output_type": "stream",
          "text": [
            "Saved to photo.jpg\n"
          ],
          "name": "stdout"
        },
        {
          "output_type": "display_data",
          "data": {
            "image/jpeg": "[encoded data removed]",
            "text/plain": [
              "<IPython.core.display.Image object>"
            ]
          },
          "metadata": {
            "tags": []
          }
        }
      ]
    },
    {
      "cell_type": "markdown",
      "metadata": {
        "id": "3l57T0ap-sgc",
        "colab_type": "text"
      },
      "source": [
        "# Análise de crédito"
      ]
    },
    {
      "cell_type": "markdown",
      "metadata": {
        "id": "SQDMb5NN-0wc",
        "colab_type": "text"
      },
      "source": [
        "1. Verifique se na imagem possui uma pessoa, utilizando a API \"default\" da IBM; Se não possuir, informar mensagem e não conceder o empréstimo.\n",
        "\n",
        "\n",
        "2.  Verifique se a imagem apresenta conteúdo explícito , utilizando a API \"explicit\"da IBM; Se possuir, informar mensagem e não conceder o empréstimo.  \n",
        "\n",
        "\n",
        "3. Verificar o gênero e a idade da pessoa utilizando a API de reconhecimento facial da Microsoft Azure; Se não for o mesmo gênero ou se a idade diferir em 5 anos (para mais ou para menos), informar mensagem e não conceder o empréstimo.\n",
        "\n",
        "\n",
        "4. Exibir a imagem novamente no notebook com os pontos \"fiduciais\" da face da pessoa, obtidos pela API da Azure. (em uma aplicação corporativa, estes pontos ficam gravados para futuras autenticações)\n",
        "\n",
        "\n",
        "5. Chamar a API de Machine Learning em um contêiner feito em Docker e que esteja rodando em uma máquina virtual no Google Cloud. Esta API deve usar os dados informados neste notebook e **automaticamente** vetar ou conceder o empréstimo.\n",
        "\n",
        "\n",
        "ATENÇÃO PARA O BULLET 5: É necessário chamar tanto um modelo que possua a variável ETNIA quanto um modelo que não possui esta variável, assim como fizemos em aula!!!\n",
        "\n",
        "\n",
        "6. Gravar um vídeo \"operando\" o notebook e simulando a avaliação com concessão ou reprovação do crédito.\n",
        "\n",
        "\n",
        "7. Submeter o Notebook e o vídeo da plataforma da FIAP, se o vídeo ficar muito grande, submeter ao Youtube (pode ser privado) e anexar o Link.\n",
        "\n",
        "---  \n",
        "(Dica: Você pode usar este vídeo para divulgar seu trabalho como Engenheiro de ML)\n"
      ]
    },
    {
      "cell_type": "code",
      "metadata": {
        "id": "80d4zZjWAN4L",
        "colab_type": "code",
        "colab": {}
      },
      "source": [
        "#Melhorar essa função, deve ter uma maneira mais pythonica de recuperar a classe de dentro do json.\n",
        "def analysePicture(visual_recognition,urlPicture,threshold=0.7,classifier_ids=\"default\"):\n",
        "  '''\n",
        "    Description:\n",
        "      Função de Analise de Imagem utilizando a API Visual Recognition da IBM\n",
        "      Verifica se a foto é de uma pessoa e se não possui conteúdo explícito\n",
        "\n",
        "    Parameters:\n",
        "      visual_recognition\n",
        "        Objeto VisualRecognitionV3 já instânciado\n",
        "      urlPicture\n",
        "        URL da Imagem\n",
        "      threshold\n",
        "        Percentural de acurácia que a analise deve atingir para que a função tenha \n",
        "        um retorno positivo\n",
        "      classifier_ids - API utilizada (default ou explicit) \n",
        "      \n",
        "  '''\n",
        "\n",
        "  foundClass = False\n",
        "\n",
        "  if classifier_ids == \"explicit\":\n",
        "    class_picture = \"explicit\"\n",
        "  else: \n",
        "    class_picture = \"person\"\n",
        "\n",
        "  with open(urlPicture, 'rb') as images_file:\n",
        "    classes_result = visual_recognition.classify(images_file=images_file,threshold=threshold,classifier_ids=classifier_ids).get_result()\n",
        "\n",
        "  classes = classes_result['images'][0]['classifiers'][0]['classes']\n",
        "  \n",
        "  for classe in classes:\n",
        "    if classe.get(\"class\") == class_picture:\n",
        "      foundClass = True\n",
        "      exit\n",
        "\n",
        "  return foundClass"
      ],
      "execution_count": 191,
      "outputs": []
    },
    {
      "cell_type": "code",
      "metadata": {
        "id": "CgBKHTDNZG_E",
        "colab_type": "code",
        "colab": {
          "base_uri": "https://localhost:8080/",
          "height": 34
        },
        "outputId": "9f3592f4-95ca-40bb-a850-84938cb022aa"
      },
      "source": [
        "#Teste da Função analysePicture\n",
        "lPictureOK = False\n",
        "\n",
        "#Analisa se a foto é de uma pessoa\n",
        "if analysePicture(visual_recognition,\"photo.jpg\"):\n",
        "  #Analisa se a foto possui conteudo explicito\n",
        "  #testar com alguma foto \"pesada\" kkkkk\n",
        "  if not (analysePicture(visual_recognition,\"photo.jpg\",0.75,\"explicit\")):\n",
        "    lPictureOK = True\n",
        "  \n",
        "if lPictureOK:\n",
        "  print(\"Foto Aprovada\")\n",
        "else:\n",
        "  print(\"Foto Recusada\")"
      ],
      "execution_count": 193,
      "outputs": [
        {
          "output_type": "stream",
          "text": [
            "Foto Aprovada\n"
          ],
          "name": "stdout"
        }
      ]
    }
  ]
}